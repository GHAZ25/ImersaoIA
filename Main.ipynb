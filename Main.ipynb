{
  "nbformat": 4,
  "nbformat_minor": 0,
  "metadata": {
    "colab": {
      "provenance": [],
      "authorship_tag": "ABX9TyMl51QsHZEiywxL2iwsA0Xm",
      "include_colab_link": true
    },
    "kernelspec": {
      "name": "python3",
      "display_name": "Python 3"
    },
    "language_info": {
      "name": "python"
    }
  },
  "cells": [
    {
      "cell_type": "markdown",
      "metadata": {
        "id": "view-in-github",
        "colab_type": "text"
      },
      "source": [
        "<a href=\"https://colab.research.google.com/github/GHAZ25/ImersaoIA/blob/main/Main.ipynb\" target=\"_parent\"><img src=\"https://colab.research.google.com/assets/colab-badge.svg\" alt=\"Open In Colab\"/></a>"
      ]
    },
    {
      "cell_type": "markdown",
      "source": [
        "# **Seja muito bem vindo ao reino de Zorzium!**\n",
        "\n",
        "Que tal desfrutar de uma aventura feita *inteiramente com IA*?\n",
        "\n",
        "Aqui, iremos criar via programação um cenária totalmente interativo, inspirado em jogos de RPG, com direito a batalhas, uso de itens e muito mais.\n",
        "\n",
        "Para maiores detalhes, acesse https://github.com/GHAZ25/ImersaoIA\n",
        "\n",
        "Vamos começar?"
      ],
      "metadata": {
        "id": "C50tGWbAhXOZ"
      }
    },
    {
      "cell_type": "code",
      "source": [
        "# Aqui estão todos os módulos necessários para jogarmos nosso jogo.\n",
        "from google.colab import userdata\n",
        "import google.generativeai as genai\n",
        "import pandas as pd\n",
        "import requests\n",
        "import json\n",
        "import re\n",
        "import os\n",
        "import PIL.Image\n",
        "\n",
        "# Como principal ferramenta, iremos usar a IA Gemini da Google. Lembre de gerar sua API KEY a partir de sua conta Google para usar esse recurso.\n",
        "# Para mais informações, acesse: https://aistudio.google.com/app/apikey\n",
        "API_KEY = userdata.get(\"API_KEY\")\n",
        "genai.configure(api_key = API_KEY)"
      ],
      "metadata": {
        "id": "7vXwFuWlu2en"
      },
      "execution_count": null,
      "outputs": []
    },
    {
      "cell_type": "markdown",
      "source": [
        "Primeiro, temos que iniciar nosso modelo generativo.\n",
        "\n",
        "Caso tenha curiosidade para conhecer, use também o Gemini diretamente em seu navegador.\n",
        "\n",
        "https://gemini.google.com/\n"
      ],
      "metadata": {
        "id": "pv7pXovPhsr3"
      }
    },
    {
      "cell_type": "code",
      "source": [
        "# Primeiramente, vamos inicializar nosso modelo generativo com alguns parâmetros.\n",
        "# Para saber mais, acesse: https://ai.google.dev/docs\n",
        "generation_config = {\n",
        "  \"temperature\": 1,\n",
        "  \"top_p\": 0.9,\n",
        "  \"top_k\": 0,\n",
        "  \"max_output_tokens\": 2048\n",
        "}\n",
        "\n",
        "safety_settings = [\n",
        "  {\n",
        "    \"category\": \"HARM_CATEGORY_HARASSMENT\",\n",
        "    \"threshold\": \"BLOCK_MEDIUM_AND_ABOVE\"\n",
        "  },\n",
        "  {\n",
        "    \"category\": \"HARM_CATEGORY_HATE_SPEECH\",\n",
        "    \"threshold\": \"BLOCK_MEDIUM_AND_ABOVE\"\n",
        "  },\n",
        "  {\n",
        "    \"category\": \"HARM_CATEGORY_SEXUALLY_EXPLICIT\",\n",
        "    \"threshold\": \"BLOCK_MEDIUM_AND_ABOVE\"\n",
        "  },\n",
        "  {\n",
        "    \"category\": \"HARM_CATEGORY_DANGEROUS_CONTENT\",\n",
        "    \"threshold\": \"BLOCK_MEDIUM_AND_ABOVE\"\n",
        "  }\n",
        "]\n",
        "\n",
        "# Aqui está um ponto importante. Iremos fornecer algumas informações sobre como a IA deve se comportar durante nosso jogo.\n",
        "# Mais informações serão dadas adiante.\n",
        "system_instruction = \"\"\"Aja como o mestre de um jogo de RPG.\n",
        "Primeiramente, serão passadas instruções sobre a história do jogo e seu funcionamento, por isso guarde essas informações.\n",
        "Durante o jogo serão aceitas apenas ações humanas possíveis dentro do contexto informado, como por exemplo olhar para os lados, caminhar ou erguer um objeto com peso plausível.\n",
        "Caso a pergunta não siga o contexto do jogo dê uma mensagem gentil que informe ao jogador que isso não é possível. Assim que o jogador atingir o objetivo informe que o jogo acabou e pergunte se quer começar outra aventura.\"\"\"\n",
        "\n",
        "model = genai.GenerativeModel(model_name=\"gemini-1.5-pro-latest\",\n",
        "                              generation_config=generation_config,\n",
        "                              system_instruction=system_instruction,\n",
        "                              safety_settings=safety_settings)"
      ],
      "metadata": {
        "id": "GXgmzeD2JNuX"
      },
      "execution_count": null,
      "outputs": []
    },
    {
      "cell_type": "markdown",
      "source": [
        "Para tornar funcional o jogo, será passado um conjunto de instruções usados como base.\n",
        "\n",
        "No contexto da IA, irei o usar o que é conhecido como 'few-shot' para explicar o que quero que seja usado, porém como pretendo deixar o mais interativo e criativo possível optei por não usar uma base própria de informações."
      ],
      "metadata": {
        "id": "kAiELFyDhr4m"
      }
    },
    {
      "cell_type": "code",
      "source": [
        "# Todo o projeto está disponível no GitHub em: https://github.com/GHAZ25/ImersaoIA\n",
        "# Aqui, iremos fazer a leitura de tudo o que precisamos fazer para dar mais instruções.\n",
        "resposta = requests.get(\"https://raw.githubusercontent.com/GHAZ25/ImersaoIA/main/aventura.json\")\n",
        "\n",
        "if resposta.status_code == 200:\n",
        "  dados = resposta.json()\n",
        "else:\n",
        "  print(\"Desculpe, não foi possível carregar as instruções\")\n",
        "  exit()\n",
        "\n",
        "# Para usarmos de uma forma efetiva, será carregado um conjunto de instruções adicionais sobre nosso jogo.\n",
        "history = dados[\"instrucoes\"]\n",
        "\n",
        "history.append({\"role\": \"user\", \"parts\": [\"Aqui estão os dados iniciais do personagem do jogo.\", f\"{dados['personagem']}\"]})\n",
        "history.append({\"role\": \"user\", \"parts\": [\"Aqui estão todos itens disponíveis no jogo.\", f\"{dados['itens']}\"]})\n",
        "history.append({\"role\": \"user\", \"parts\": [\"Aqui estão alguns equipamentos disponíveis no jogo. Com base neles, crie mais 100 novos.\", f\"{dados['equipamentos']}\"]})\n",
        "\n",
        "# Mas que tal irmos um pouco além? Muito além de textos podemos passar VÁRIOS FORMATOS DE ARQUIVO para interagir.\n",
        "# Nesse ponto, vamos passar algumas criaturas usadas como referência.\n",
        "for criatura in dados[\"criaturas\"]:\n",
        "    arquivo_imagem = criatura[\"imagem\"].split(\"/\")[-1]\n",
        "    resposta = requests.get(criatura[\"imagem\"])\n",
        "\n",
        "    if resposta.status_code == 200:\n",
        "        with open(arquivo_imagem, \"wb\") as temp:\n",
        "            temp.write(resposta.content)\n",
        "            history.append({\"role\": \"user\", \"parts\": [PIL.Image.open(arquivo_imagem), f\"{criatura['atributos']}\"]})\n",
        "\n",
        "history.append({\"role\": \"user\", \"parts\": [\"Foram enviadas 5 criaturas como referência. Crie mais 15 com base no conteúdo anterior e cuide para os locais onde possam aparecer sejam apenas os existentes na história.\"]})\n",
        "\n",
        "# Tudo pronto! Vamos jogar?\n",
        "chat = model.start_chat(history=history)\n",
        "\n",
        "for criatura in dados[\"criaturas\"]:\n",
        "    arquivo_imagem = criatura[\"imagem\"].split(\"/\")[-1]\n",
        "    os.remove(arquivo_imagem)"
      ],
      "metadata": {
        "id": "TCQ4S0CpOw5j"
      },
      "execution_count": null,
      "outputs": []
    },
    {
      "cell_type": "markdown",
      "source": [
        "## **Hora de jogar!**\n",
        "\n",
        "Execute o código abaixo para ter uma experiência de um jogo de RPG novo a cada momento. Converse com as pessoas, olhe o ambiente em volta e conheça novos lugares!\n",
        "\n",
        "Como dica, você pode fazer alguns pedidos que terão um conteúdo totalmente único.\n",
        "\n",
        "\n",
        "*   Peça para ver seus itens\n",
        "*   Peça para ver seus equipamentos\n",
        "*   Pergunte sobre seu progresso"
      ],
      "metadata": {
        "id": "Up16i3othrG1"
      }
    },
    {
      "cell_type": "code",
      "source": [
        "pergunta = \"\"\n",
        "resposta = \"\"\n",
        "\n",
        "# É aqui que a mágica acontece! Interaja com um mestre de uma mesa de RPG no melhor estilo \"jogo de texto para computador dos anos 80\".\n",
        "try:\n",
        "  print(\"-\" * 200)\n",
        "  chat.send_message(\"Faça um resumo sobre a história do jogo. Depois pergunte sobre o personagem e questione se quer alterar suas características.\")\n",
        "\n",
        "  try:\n",
        "    valida_retorno = re.search(\"^(```json)\", chat.last.text)\n",
        "\n",
        "    if valida_retorno == None:\n",
        "      retorno = json.loads(chat.last.text)\n",
        "    else:\n",
        "      retorno = json.loads(chat.last.text[8:len(chat.last.text) - 3])\n",
        "\n",
        "    resposta = retorno[\"mensagem\"]\n",
        "  except:\n",
        "    resposta = chat.last.text\n",
        "\n",
        "  print(resposta, \"\\n\")\n",
        "\n",
        "  while resposta != \"FIM_DE_JOGO\" and pergunta != \"SAIR\":\n",
        "    pergunta = input(\"\\n - Resposta:\\n\")\n",
        "    print(\"-\" * 200)\n",
        "\n",
        "    if pergunta == \"SAIR\":\n",
        "      continue\n",
        "\n",
        "    chat.send_message(pergunta)\n",
        "\n",
        "    try:\n",
        "      valida_retorno = re.search(\"^(```json)\", chat.last.text)\n",
        "\n",
        "      if valida_retorno == None:\n",
        "        retorno = json.loads(chat.last.text)\n",
        "      else:\n",
        "        retorno = json.loads(chat.last.text[8:len(chat.last.text) - 3])\n",
        "\n",
        "      resposta = retorno[\"mensagem\"]\n",
        "    except:\n",
        "      resposta = chat.last.text\n",
        "\n",
        "    if resposta == \"FIM_DE_JOGO\":\n",
        "      continue\n",
        "    elif resposta == \"MOSTRAR_INFORMACOES\":\n",
        "      df = pd.DataFrame(retorno[\"extra\"])\n",
        "      print(\"-\" * 100)\n",
        "      print(df)\n",
        "      print(\"-\" * 100)\n",
        "      print(\"\\nO que deseja fazer?\")\n",
        "    else:\n",
        "      print(resposta, \"\\n\")\n",
        "except Exception as ex:\n",
        "  print(\"Exception: \", ex)\n",
        "  print(f\"ERRO: {chat.last.text}\")"
      ],
      "metadata": {
        "id": "QB6rMh12hcMS"
      },
      "execution_count": null,
      "outputs": []
    }
  ]
}